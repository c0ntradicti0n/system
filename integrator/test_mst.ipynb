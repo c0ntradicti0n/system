{
 "cells": [
  {
   "cell_type": "code",
   "execution_count": null,
   "outputs": [],
   "source": [
    "! export MODELS_CONFIG=\"../classifier/models/\"\n",
    "! export REDIS_HOST=\"localhost\"\n",
    "! pwd"
   ],
   "metadata": {
    "collapsed": false,
    "is_executing": true
   },
   "id": "41109118901aeac8"
  },
  {
   "cell_type": "code",
   "execution_count": null,
   "outputs": [],
   "source": [
    "from integrator.test_mst import recompute_tree\n",
    "from lib.draw_graph import draw_graph\n",
    "\n",
    "g, t = recompute_tree(\"1/1/1\", start_node=\"Be\", epochs=7)\n",
    "t.dump_graph(\"111\", g, \"111\")\n",
    "draw_graph(g, other_attributes=\"a_score\")"
   ],
   "metadata": {
    "collapsed": false,
    "is_executing": true
   },
   "id": "ca8e9e590fd3100"
  },
  {
   "cell_type": "code",
   "execution_count": null,
   "outputs": [],
   "source": [
    "from integrator.test_mst import from_texts\n",
    "\n",
    "g, t = from_texts(\n",
    "    [\"linear operations\", \"multiplicative operations\", \"exponential and logarithmic functions\", \"addition\",\n",
    "     \"subtraction\", \"multiplication\", \"division\", \"exponent\", \"root\",\n",
    "     \"neutral element of addition and subtraction is 0\", \"neutral element of multiplication and division is 1\",\n",
    "     \"basis of exponent and root\"], epochs=12, start_node=\"linear operations\", start_with_sub=True)\n",
    "t.dump_graph(\"calc\", t.graph, \"calc\")\n",
    "draw_graph(g, other_attributes=\"a_score\")"
   ],
   "metadata": {
    "collapsed": false,
    "is_executing": true
   },
   "id": "ae7a213bdce07ff2"
  },
  {
   "cell_type": "code",
   "execution_count": null,
   "outputs": [],
   "source": [
    "t.computed_out_edges(t.graph, \"Calculation\")"
   ],
   "metadata": {
    "collapsed": false,
    "is_executing": true
   },
   "id": "c0b0b3f6553ff0cd"
  },
  {
   "cell_type": "code",
   "execution_count": null,
   "outputs": [],
   "source": [
    "t.computed_out_edges(t.graph, \"plus\")"
   ],
   "metadata": {
    "collapsed": false,
    "is_executing": true
   },
   "id": "f129f4e8a977f6cf"
  },
  {
   "cell_type": "code",
   "execution_count": null,
   "outputs": [],
   "source": [
    "from lib.score_matrix import score_matrix\n",
    "\n",
    "score_matrix(t.graph, \"h_score\")"
   ],
   "metadata": {
    "collapsed": false,
    "is_executing": true
   },
   "id": "26e01e8dec942f75"
  },
  {
   "cell_type": "code",
   "execution_count": null,
   "outputs": [],
   "source": [
    "score_matrix(t.graph, \"a_score\")"
   ],
   "metadata": {
    "collapsed": false,
    "is_executing": true
   },
   "id": "2ca4bbf9143e274b"
  },
  {
   "cell_type": "code",
   "execution_count": null,
   "outputs": [],
   "source": [
    "score_matrix(t.graph, \"T_score\")"
   ],
   "metadata": {
    "collapsed": false,
    "is_executing": true
   },
   "id": "aea156c83c8bb393"
  },
  {
   "cell_type": "code",
   "execution_count": null,
   "outputs": [],
   "source": [
    "score_matrix(t.graph, \"A_score\")"
   ],
   "metadata": {
    "collapsed": false,
    "is_executing": true
   },
   "id": "6cf19fbacb33d01d"
  }
 ],
 "metadata": {
  "kernelspec": {
   "display_name": "Python 3",
   "language": "python",
   "name": "python3"
  },
  "language_info": {
   "codemirror_mode": {
    "name": "ipython",
    "version": 2
   },
   "file_extension": ".py",
   "mimetype": "text/x-python",
   "name": "python",
   "nbconvert_exporter": "python",
   "pygments_lexer": "ipython2",
   "version": "2.7.6"
  }
 },
 "nbformat": 4,
 "nbformat_minor": 5
}
