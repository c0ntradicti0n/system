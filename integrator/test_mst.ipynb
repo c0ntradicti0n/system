{
 "cells": [
  {
   "cell_type": "code",
   "execution_count": 1,
   "outputs": [
    {
     "name": "stdout",
     "output_type": "stream",
     "text": [
      "/home/stefan/programming/system/integrator\r\n"
     ]
    }
   ],
   "source": [
    "! export MODELS_CONFIG=\"../classifier/models\"\n",
    "! export REDIS_HOST=\"localhost\"\n",
    "! pwd"
   ],
   "metadata": {
    "collapsed": false,
    "ExecuteTime": {
     "end_time": "2023-11-22T22:17:16.072497864Z",
     "start_time": "2023-11-22T22:17:15.529141262Z"
    }
   },
   "id": "41109118901aeac8"
  },
  {
   "cell_type": "code",
   "execution_count": 2,
   "outputs": [
    {
     "ename": "FileNotFoundError",
     "evalue": "[Errno 2] No such file or directory: '../classifier/modelsmodels.yml'",
     "output_type": "error",
     "traceback": [
      "\u001B[0;31m---------------------------------------------------------------------------\u001B[0m",
      "\u001B[0;31mFileNotFoundError\u001B[0m                         Traceback (most recent call last)",
      "Cell \u001B[0;32mIn[2], line 1\u001B[0m\n\u001B[0;32m----> 1\u001B[0m \u001B[38;5;28;01mfrom\u001B[39;00m \u001B[38;5;21;01mintegrator\u001B[39;00m\u001B[38;5;21;01m.\u001B[39;00m\u001B[38;5;21;01mtest_mst\u001B[39;00m \u001B[38;5;28;01mimport\u001B[39;00m recompute_tree\n\u001B[1;32m      2\u001B[0m \u001B[38;5;28;01mfrom\u001B[39;00m \u001B[38;5;21;01mlib\u001B[39;00m\u001B[38;5;21;01m.\u001B[39;00m\u001B[38;5;21;01mdraw_graph\u001B[39;00m \u001B[38;5;28;01mimport\u001B[39;00m draw_graph\n\u001B[1;32m      4\u001B[0m g, t \u001B[38;5;241m=\u001B[39m recompute_tree(\u001B[38;5;124m\"\u001B[39m\u001B[38;5;124m1/1/1\u001B[39m\u001B[38;5;124m\"\u001B[39m, start_node\u001B[38;5;241m=\u001B[39m\u001B[38;5;124m\"\u001B[39m\u001B[38;5;124mBe\u001B[39m\u001B[38;5;124m\"\u001B[39m, epochs\u001B[38;5;241m=\u001B[39m\u001B[38;5;241m7\u001B[39m)\n",
      "File \u001B[0;32m~/programming/system/integrator/test_mst.py:3\u001B[0m\n\u001B[1;32m      1\u001B[0m \u001B[38;5;28;01mimport\u001B[39;00m \u001B[38;5;21;01mos\u001B[39;00m\n\u001B[0;32m----> 3\u001B[0m \u001B[38;5;28;01mfrom\u001B[39;00m \u001B[38;5;21;01mintegrator\u001B[39;00m\u001B[38;5;21;01m.\u001B[39;00m\u001B[38;5;21;01mmain\u001B[39;00m \u001B[38;5;28;01mimport\u001B[39;00m make_dialectics\n\u001B[1;32m      4\u001B[0m \u001B[38;5;28;01mfrom\u001B[39;00m \u001B[38;5;21;01mlib\u001B[39;00m\u001B[38;5;21;01m.\u001B[39;00m\u001B[38;5;21;01mhelper\u001B[39;00m \u001B[38;5;28;01mimport\u001B[39;00m OutputLevel, tree\n\u001B[1;32m      5\u001B[0m \u001B[38;5;28;01mfrom\u001B[39;00m \u001B[38;5;21;01mlib\u001B[39;00m\u001B[38;5;21;01m.\u001B[39;00m\u001B[38;5;21;01mnested\u001B[39;00m \u001B[38;5;28;01mimport\u001B[39;00m extract_values\n",
      "File \u001B[0;32m~/programming/system/integrator/main.py:5\u001B[0m\n\u001B[1;32m      2\u001B[0m \u001B[38;5;28;01mimport\u001B[39;00m \u001B[38;5;21;01mitertools\u001B[39;00m\n\u001B[1;32m      3\u001B[0m \u001B[38;5;28;01mimport\u001B[39;00m \u001B[38;5;21;01mlogging\u001B[39;00m\n\u001B[0;32m----> 5\u001B[0m \u001B[38;5;28;01mfrom\u001B[39;00m \u001B[38;5;21;01mclassifier\u001B[39;00m\u001B[38;5;21;01m.\u001B[39;00m\u001B[38;5;21;01mresult\u001B[39;00m\u001B[38;5;21;01m.\u001B[39;00m\u001B[38;5;21;01mpredict\u001B[39;00m \u001B[38;5;28;01mimport\u001B[39;00m MODELS\n\u001B[1;32m      6\u001B[0m \u001B[38;5;28;01mfrom\u001B[39;00m \u001B[38;5;21;01mintegrator\u001B[39;00m\u001B[38;5;21;01m.\u001B[39;00m\u001B[38;5;21;01mtree\u001B[39;00m \u001B[38;5;28;01mimport\u001B[39;00m Tree\n\u001B[1;32m      7\u001B[0m \u001B[38;5;28;01mfrom\u001B[39;00m \u001B[38;5;21;01mlib\u001B[39;00m\u001B[38;5;21;01m.\u001B[39;00m\u001B[38;5;21;01mt\u001B[39;00m \u001B[38;5;28;01mimport\u001B[39;00m catchtime, indented\n",
      "File \u001B[0;32m~/programming/system/classifier/result/predict.py:16\u001B[0m\n\u001B[1;32m     12\u001B[0m yaml \u001B[38;5;241m=\u001B[39m YAML(typ\u001B[38;5;241m=\u001B[39m\u001B[38;5;124m\"\u001B[39m\u001B[38;5;124mrt\u001B[39m\u001B[38;5;124m\"\u001B[39m)\n\u001B[1;32m     14\u001B[0m \u001B[38;5;28;01mfrom\u001B[39;00m \u001B[38;5;21;01mtorch\u001B[39;00m\u001B[38;5;21;01m.\u001B[39;00m\u001B[38;5;21;01mnn\u001B[39;00m\u001B[38;5;21;01m.\u001B[39;00m\u001B[38;5;21;01mfunctional\u001B[39;00m \u001B[38;5;28;01mimport\u001B[39;00m pairwise_distance\n\u001B[0;32m---> 16\u001B[0m \u001B[38;5;28;01mfrom\u001B[39;00m \u001B[38;5;21;01mclassifier\u001B[39;00m\u001B[38;5;21;01m.\u001B[39;00m\u001B[38;5;21;01mmodel\u001B[39;00m\u001B[38;5;21;01m.\u001B[39;00m\u001B[38;5;21;01mdifferent_models\u001B[39;00m \u001B[38;5;28;01mimport\u001B[39;00m (configure_model, get_best_model,\n\u001B[1;32m     17\u001B[0m                                                get_models_config_path)\n\u001B[1;32m     18\u001B[0m \u001B[38;5;28;01mfrom\u001B[39;00m \u001B[38;5;21;01mclassifier\u001B[39;00m\u001B[38;5;21;01m.\u001B[39;00m\u001B[38;5;21;01mresult\u001B[39;00m\u001B[38;5;21;01m.\u001B[39;00m\u001B[38;5;21;01mthink\u001B[39;00m \u001B[38;5;28;01mimport\u001B[39;00m get_model, get_prediction\n\u001B[1;32m     19\u001B[0m \u001B[38;5;28;01mfrom\u001B[39;00m \u001B[38;5;21;01mlib\u001B[39;00m\u001B[38;5;21;01m.\u001B[39;00m\u001B[38;5;21;01membedding\u001B[39;00m \u001B[38;5;28;01mimport\u001B[39;00m get_embeddings\n",
      "File \u001B[0;32m~/programming/system/classifier/model/different_models.py:18\u001B[0m\n\u001B[1;32m     14\u001B[0m \u001B[38;5;28;01mdef\u001B[39;00m \u001B[38;5;21mget_models_config_path\u001B[39m():\n\u001B[1;32m     15\u001B[0m     \u001B[38;5;28;01mreturn\u001B[39;00m get_models_root_dir() \u001B[38;5;241m+\u001B[39m \u001B[38;5;124m\"\u001B[39m\u001B[38;5;124mmodels.yml\u001B[39m\u001B[38;5;124m\"\u001B[39m\n\u001B[0;32m---> 18\u001B[0m \u001B[38;5;28;01mwith\u001B[39;00m \u001B[38;5;28;43mopen\u001B[39;49m\u001B[43m(\u001B[49m\u001B[43mget_models_config_path\u001B[49m\u001B[43m(\u001B[49m\u001B[43m)\u001B[49m\u001B[43m,\u001B[49m\u001B[43m \u001B[49m\u001B[38;5;124;43m\"\u001B[39;49m\u001B[38;5;124;43mr\u001B[39;49m\u001B[38;5;124;43m\"\u001B[39;49m\u001B[43m)\u001B[49m \u001B[38;5;28;01mas\u001B[39;00m f:\n\u001B[1;32m     19\u001B[0m     models \u001B[38;5;241m=\u001B[39m yaml\u001B[38;5;241m.\u001B[39mload(f)\n\u001B[1;32m     22\u001B[0m \u001B[38;5;28;01mdef\u001B[39;00m \u001B[38;5;21mget_model_config\u001B[39m(model_name):\n",
      "\u001B[0;31mFileNotFoundError\u001B[0m: [Errno 2] No such file or directory: '../classifier/modelsmodels.yml'"
     ]
    }
   ],
   "source": [
    "from integrator.test_mst import recompute_tree\n",
    "from lib.draw_graph import draw_graph\n",
    "\n",
    "g, t = recompute_tree(\"1/1/1\", start_node=\"Be\", epochs=7)\n",
    "t.dump_graph(\"111\", g, \"111\")\n",
    "draw_graph(g, other_attributes=\"a_score\")"
   ],
   "metadata": {
    "collapsed": false,
    "ExecuteTime": {
     "end_time": "2023-11-22T22:17:23.728500782Z",
     "start_time": "2023-11-22T22:17:16.037458943Z"
    }
   },
   "id": "ca8e9e590fd3100"
  },
  {
   "cell_type": "code",
   "execution_count": null,
   "outputs": [],
   "source": [
    "from integrator.test_mst import from_texts\n",
    "\n",
    "g, t = from_texts(\n",
    "    [\"linear operations\", \"multiplicative operations\", \"exponential and logarithmic functions\", \"addition\",\n",
    "     \"subtraction\", \"multiplication\", \"division\", \"exponent\", \"root\",\n",
    "     \"neutral element of addition and subtraction is 0\", \"neutral element of multiplication and division is 1\",\n",
    "     \"basis of exponent and root\"], epochs=12, start_node=\"linear operations\", start_with_sub=True)\n",
    "t.dump_graph(\"calc\", t.graph, \"calc\")\n",
    "draw_graph(g, other_attributes=\"a_score\")"
   ],
   "metadata": {
    "collapsed": false,
    "ExecuteTime": {
     "start_time": "2023-11-22T22:17:23.726028074Z"
    }
   },
   "id": "ae7a213bdce07ff2"
  },
  {
   "cell_type": "code",
   "execution_count": null,
   "outputs": [],
   "source": [
    "t.computed_out_edges(t.graph, \"Calculation\")"
   ],
   "metadata": {
    "collapsed": false,
    "ExecuteTime": {
     "end_time": "2023-11-22T22:17:23.915181679Z",
     "start_time": "2023-11-22T22:17:23.734934230Z"
    }
   },
   "id": "c0b0b3f6553ff0cd"
  },
  {
   "cell_type": "code",
   "execution_count": null,
   "outputs": [],
   "source": [
    "t.computed_out_edges(t.graph, \"plus\")"
   ],
   "metadata": {
    "collapsed": false,
    "ExecuteTime": {
     "start_time": "2023-11-22T22:17:23.781347949Z"
    }
   },
   "id": "f129f4e8a977f6cf"
  },
  {
   "cell_type": "code",
   "execution_count": null,
   "outputs": [],
   "source": [
    "from lib.score_matrix import score_matrix\n",
    "\n",
    "score_matrix(t.graph, \"h_score\")"
   ],
   "metadata": {
    "collapsed": false,
    "ExecuteTime": {
     "start_time": "2023-11-22T22:17:23.781654389Z"
    }
   },
   "id": "26e01e8dec942f75"
  },
  {
   "cell_type": "code",
   "execution_count": null,
   "outputs": [],
   "source": [
    "score_matrix(t.graph, \"a_score\")"
   ],
   "metadata": {
    "collapsed": false,
    "ExecuteTime": {
     "start_time": "2023-11-22T22:17:23.781844594Z"
    }
   },
   "id": "2ca4bbf9143e274b"
  },
  {
   "cell_type": "code",
   "execution_count": null,
   "outputs": [],
   "source": [
    "score_matrix(t.graph, \"T_score\")"
   ],
   "metadata": {
    "collapsed": false,
    "ExecuteTime": {
     "start_time": "2023-11-22T22:17:23.782022677Z"
    }
   },
   "id": "aea156c83c8bb393"
  },
  {
   "cell_type": "code",
   "execution_count": null,
   "outputs": [],
   "source": [
    "score_matrix(t.graph, \"A_score\")"
   ],
   "metadata": {
    "collapsed": false,
    "ExecuteTime": {
     "start_time": "2023-11-22T22:17:23.825048049Z"
    }
   },
   "id": "6cf19fbacb33d01d"
  }
 ],
 "metadata": {
  "kernelspec": {
   "display_name": "Python 3",
   "language": "python",
   "name": "python3"
  },
  "language_info": {
   "codemirror_mode": {
    "name": "ipython",
    "version": 2
   },
   "file_extension": ".py",
   "mimetype": "text/x-python",
   "name": "python",
   "nbconvert_exporter": "python",
   "pygments_lexer": "ipython2",
   "version": "2.7.6"
  }
 },
 "nbformat": 4,
 "nbformat_minor": 5
}
